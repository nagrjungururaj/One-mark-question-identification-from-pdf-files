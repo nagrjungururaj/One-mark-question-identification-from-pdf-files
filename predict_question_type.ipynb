{
 "cells": [
  {
   "cell_type": "code",
   "execution_count": 2,
   "metadata": {},
   "outputs": [],
   "source": [
    "import pandas as pd\n",
    "import numpy\n",
    "import os\n",
    "from keras.preprocessing import text, sequence\n",
    "from keras import layers, models, optimizers\n",
    "from keras.utils import to_categorical\n",
    "from keras.models import model_from_json\n",
    "from sklearn.metrics import f1_score\n",
    "import numpy as np"
   ]
  },
  {
   "cell_type": "markdown",
   "metadata": {},
   "source": [
    "### Load the prepared data"
   ]
  },
  {
   "cell_type": "code",
   "execution_count": 13,
   "metadata": {},
   "outputs": [],
   "source": [
    "num_classes = 2\n",
    "\n",
    "#load train data\n",
    "X1 = pd.read_csv('train.csv')\n",
    "\n",
    "train_sentences = X1['data']\n",
    "labels_train = X1['label']\n",
    "\n",
    "#load test data\n",
    "X2 = pd.read_csv('test.csv')\n",
    "test_sentences = X2['data']"
   ]
  },
  {
   "cell_type": "markdown",
   "metadata": {},
   "source": [
    "### Convert labels to categorical"
   ]
  },
  {
   "cell_type": "code",
   "execution_count": 16,
   "metadata": {},
   "outputs": [],
   "source": [
    "labels = labels_train.values\n",
    "labels[labels == 1] = 1\n",
    "labels[labels == 2] = 0\n",
    "\n",
    "y_train = to_categorical(labels, num_classes)"
   ]
  },
  {
   "cell_type": "markdown",
   "metadata": {},
   "source": [
    "### Vectorize sentences using pre-trained word embedding"
   ]
  },
  {
   "cell_type": "code",
   "execution_count": 17,
   "metadata": {},
   "outputs": [],
   "source": [
    "# load the pre-trained word-embedding vectors \n",
    "embeddings_index = {}\n",
    "for i, line in enumerate(open('wiki-news-300d-1M.vec',encoding='utf8')):\n",
    "    values = line.split()\n",
    "    embeddings_index[values[0]] = numpy.asarray(values[1:], dtype='float32')\n",
    "\n",
    "# create a tokenizer \n",
    "token = text.Tokenizer()\n",
    "token.fit_on_texts(train_sentences)\n",
    "word_index = token.word_index\n",
    "\n",
    "# convert text to sequence of tokens and pad them to ensure equal length vectors \n",
    "train_seq_x = sequence.pad_sequences(token.texts_to_sequences(train_sentences), maxlen=70)\n",
    "valid_seq_x = sequence.pad_sequences(token.texts_to_sequences(test_sentences), maxlen=70)\n",
    "\n",
    "# create token-embedding mapping\n",
    "embedding_matrix = numpy.zeros((len(word_index) + 1, 300))\n",
    "for word, i in word_index.items():\n",
    "    embedding_vector = embeddings_index.get(word)\n",
    "    if embedding_vector is not None:\n",
    "        embedding_matrix[i] = embedding_vector"
   ]
  },
  {
   "cell_type": "markdown",
   "metadata": {},
   "source": [
    "### Train a simple LSTM model "
   ]
  },
  {
   "cell_type": "code",
   "execution_count": 19,
   "metadata": {},
   "outputs": [
    {
     "name": "stdout",
     "output_type": "stream",
     "text": [
      "Epoch 1/5\n",
      "374/374 [==============================] - 9s 24ms/step - loss: 0.6169 - acc: 0.6631\n",
      "Epoch 2/5\n",
      "374/374 [==============================] - 5s 14ms/step - loss: 0.3736 - acc: 0.8342\n",
      "Epoch 3/5\n",
      "374/374 [==============================] - 5s 13ms/step - loss: 0.2023 - acc: 0.9171\n",
      "Epoch 4/5\n",
      "374/374 [==============================] - 6s 16ms/step - loss: 0.1617 - acc: 0.9465\n",
      "Epoch 5/5\n",
      "374/374 [==============================] - 6s 15ms/step - loss: 0.1304 - acc: 0.9626\n",
      "Saved model to disk\n"
     ]
    }
   ],
   "source": [
    "# Add an Input Layer\n",
    "input_layer = layers.Input((70, ))\n",
    "\n",
    "# Add the word embedding Layer\n",
    "embedding_layer = layers.Embedding(len(word_index) + 1, 300, weights=[embedding_matrix], trainable=False)(input_layer)\n",
    "embedding_layer = layers.SpatialDropout1D(0.3)(embedding_layer)\n",
    "\n",
    "# Add the LSTM Layer\n",
    "lstm_layer = layers.LSTM(100)(embedding_layer)\n",
    "\n",
    "# Add the output Layers\n",
    "output_layer1 = layers.Dense(50, activation=\"relu\")(lstm_layer)\n",
    "output_layer1 = layers.Dropout(0.25)(output_layer1)\n",
    "output_layer2 = layers.Dense(num_classes, activation=\"softmax\")(output_layer1)\n",
    "\n",
    "# Compile the model\n",
    "model = models.Model(inputs=input_layer, outputs=output_layer2)\n",
    "model.compile(optimizer=optimizers.Adam(), loss='binary_crossentropy',metrics=['accuracy'])\n",
    "\n",
    "#Train the model\n",
    "model.fit(train_seq_x, y_train, epochs=5, batch_size=8)\n",
    "\n",
    "#Save the trained model\n",
    "\n",
    "# serialize model to JSON\n",
    "model_json = model.to_json()\n",
    "with open(\"model.json\", \"w\") as json_file:\n",
    "    json_file.write(model_json)\n",
    "# serialize weights to HDF5\n",
    "model.save_weights(\"model.h5\")\n",
    "print(\"Saved model to disk\")"
   ]
  },
  {
   "cell_type": "markdown",
   "metadata": {},
   "source": [
    "### Test the model and get predictions for test data"
   ]
  },
  {
   "cell_type": "code",
   "execution_count": 20,
   "metadata": {},
   "outputs": [
    {
     "name": "stdout",
     "output_type": "stream",
     "text": [
      "Loaded model from disk\n",
      "374/374 [==============================] - 2s 6ms/step\n",
      "F1-score with weighted average for training data is: 0.989303282501812\n",
      "108/108 [==============================] - 0s 4ms/step\n"
     ]
    }
   ],
   "source": [
    "#Load the trained model\n",
    "\n",
    "json_file = open('model.json', 'r')\n",
    "loaded_model_json = json_file.read()\n",
    "json_file.close()\n",
    "loaded_model = model_from_json(loaded_model_json)\n",
    "# load weights into new model\n",
    "loaded_model.load_weights(\"model.h5\")\n",
    "print(\"Loaded model from disk\")\n",
    "\n",
    "#get predictions on train data and calculate F1-score with weighted mean\n",
    "y_pred_train = model.predict(train_seq_x, batch_size=8,verbose=1)\n",
    "\n",
    "print('F1-score with weighted average for training data is:', f1_score(y_train, y_pred_train.round(), average='weighted'))\n",
    "\n",
    "# get prediction on test data\n",
    "y_pred = model.predict(valid_seq_x, batch_size=8,verbose=1)\n",
    "y_pred = numpy.argmax(y_pred, axis=1)\n",
    "\n",
    "# get the id column of test data\n",
    "qid = X2['id']\n",
    "\n",
    "#get the test questions\n",
    "test = X2['data']\n",
    "\n",
    "#convert y_pred to real labels\n",
    "preds = pd.DataFrame(y_pred, columns=['preds'])\n",
    "\n",
    "preds[preds.preds == 0] = 'other_questions'\n",
    "preds[preds.preds == 1] = '1-mark_questions'\n",
    "\n",
    "qid = qid.values\n",
    "data = test.values\n",
    "preds = preds['preds']\n",
    "preds = preds.values\n",
    "\n",
    "result = {'id':qid, 'test-questions':data, 'preds': preds}\n",
    "df = pd.DataFrame(result)\n",
    "df.to_csv('questions-predicted.csv', index=False)"
   ]
  }
 ],
 "metadata": {
  "kernelspec": {
   "display_name": "Python 3",
   "language": "python",
   "name": "python3"
  },
  "language_info": {
   "codemirror_mode": {
    "name": "ipython",
    "version": 3
   },
   "file_extension": ".py",
   "mimetype": "text/x-python",
   "name": "python",
   "nbconvert_exporter": "python",
   "pygments_lexer": "ipython3",
   "version": "3.6.0"
  }
 },
 "nbformat": 4,
 "nbformat_minor": 2
}
